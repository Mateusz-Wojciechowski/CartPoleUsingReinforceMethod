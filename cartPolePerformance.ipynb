{
 "cells": [
  {
   "cell_type": "code",
   "execution_count": 1,
   "id": "initial_id",
   "metadata": {
    "ExecuteTime": {
     "end_time": "2024-03-22T11:48:54.560471Z",
     "start_time": "2024-03-22T11:48:50.553358100Z"
    }
   },
   "outputs": [],
   "source": [
    "import torch\n",
    "from PolicyNet import PolicyNet\n",
    "import gymnasium\n",
    "from trainingConstants import HIDDEN_SIZE\n",
    "from testAgent import choose_action\n",
    "import ipywidgets as widgets\n",
    "from PIL import Image\n",
    "from IPython.display import display"
   ]
  },
  {
   "cell_type": "code",
   "execution_count": 2,
   "id": "8092d6a5-877c-4962-a6d5-ef437c4ec10c",
   "metadata": {},
   "outputs": [],
   "source": [
    "def run_with_policy(env, policy_net):\n",
    "    state = env.reset()\n",
    "    state = state[0]\n",
    "    done = False\n",
    "    steps = 0\n",
    "\n",
    "    while not done:\n",
    "        env.render()\n",
    "        action = choose_action(policy_net, state)\n",
    "        current_state, _, done, _, _ = env.step(action.item())\n",
    "        state = current_state\n",
    "        steps += 1\n",
    "\n",
    "    env.close()\n",
    "    return steps"
   ]
  },
  {
   "cell_type": "code",
   "execution_count": 3,
   "id": "93df5ea7e3170211",
   "metadata": {
    "ExecuteTime": {
     "end_time": "2024-03-22T11:49:06.136478100Z",
     "start_time": "2024-03-22T11:48:54.574675600Z"
    },
    "collapsed": false,
    "jupyter": {
     "outputs_hidden": false
    }
   },
   "outputs": [
    {
     "name": "stdout",
     "output_type": "stream",
     "text": [
      "Amount of successful steps3326\n"
     ]
    }
   ],
   "source": [
    "env = gymnasium.make('CartPole-v1', render_mode=\"human\")\n",
    "action_space = env.action_space.n\n",
    "observation_space = env.observation_space.shape[0]\n",
    "policy_net = PolicyNet(observation_space, action_space, hidden_size=HIDDEN_SIZE)\n",
    "\n",
    "policy_net.load_state_dict(torch.load('policy_net.pth'))\n",
    "\n",
    "steps = run_with_policy(env, policy_net)\n",
    "print(f\"Amount of successful steps{steps}\")"
   ]
  },
  {
   "cell_type": "code",
   "execution_count": null,
   "id": "a03de3c5-0f9b-4719-9fc4-9409404e8822",
   "metadata": {},
   "outputs": [],
   "source": []
  }
 ],
 "metadata": {
  "kernelspec": {
   "display_name": "Python 3 (ipykernel)",
   "language": "python",
   "name": "python3"
  },
  "language_info": {
   "codemirror_mode": {
    "name": "ipython",
    "version": 3
   },
   "file_extension": ".py",
   "mimetype": "text/x-python",
   "name": "python",
   "nbconvert_exporter": "python",
   "pygments_lexer": "ipython3",
   "version": "3.11.0"
  }
 },
 "nbformat": 4,
 "nbformat_minor": 5
}
